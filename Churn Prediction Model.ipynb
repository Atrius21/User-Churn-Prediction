{
 "cells": [
  {
   "cell_type": "markdown",
   "metadata": {},
   "source": [
    "## User Churn Prediction with Machine Learning \n",
    "    - The data was pulled from an e-retail company\n",
    "    - The objective here is to predict users who are likely to comeback in November"
   ]
  },
  {
   "cell_type": "markdown",
   "metadata": {},
   "source": [
    "## Data cleaning"
   ]
  },
  {
   "cell_type": "code",
   "execution_count": 2,
   "metadata": {
    "collapsed": true
   },
   "outputs": [],
   "source": [
    "import numpy as np\n",
    "import pandas as pd\n",
    "import seaborn as sns\n",
    "import matplotlib.pyplot as plt"
   ]
  },
  {
   "cell_type": "code",
   "execution_count": 3,
   "metadata": {
    "collapsed": false
   },
   "outputs": [
    {
     "name": "stderr",
     "output_type": "stream",
     "text": [
      "C:\\Users\\Max Yap\\Anaconda3\\lib\\site-packages\\IPython\\core\\interactiveshell.py:2717: DtypeWarning: Columns (12,13,21) have mixed types. Specify dtype option on import or set low_memory=False.\n",
      "  interactivity=interactivity, compiler=compiler, result=result)\n"
     ]
    },
    {
     "data": {
      "text/html": [
       "<div>\n",
       "<style>\n",
       "    .dataframe thead tr:only-child th {\n",
       "        text-align: right;\n",
       "    }\n",
       "\n",
       "    .dataframe thead th {\n",
       "        text-align: left;\n",
       "    }\n",
       "\n",
       "    .dataframe tbody tr th {\n",
       "        vertical-align: top;\n",
       "    }\n",
       "</style>\n",
       "<table border=\"1\" class=\"dataframe\">\n",
       "  <thead>\n",
       "    <tr style=\"text-align: right;\">\n",
       "      <th></th>\n",
       "      <th>/_TIC</th>\n",
       "      <th>/_UIC</th>\n",
       "      <th>/_oos_total</th>\n",
       "      <th>/_oos_unique</th>\n",
       "      <th>Unnamed: 0</th>\n",
       "      <th>alcohol/beer_TIC</th>\n",
       "      <th>alcohol/beer_UIC</th>\n",
       "      <th>alcohol/beer_oos_total</th>\n",
       "      <th>alcohol/beer_oos_unique</th>\n",
       "      <th>alcohol/cider_TIC</th>\n",
       "      <th>...</th>\n",
       "      <th>voucher</th>\n",
       "      <th>voucher_adjust_amount</th>\n",
       "      <th>yogurt_&amp;_puddings/pudding_TIC</th>\n",
       "      <th>yogurt_&amp;_puddings/pudding_UIC</th>\n",
       "      <th>yogurt_&amp;_puddings/pudding_oos_total</th>\n",
       "      <th>yogurt_&amp;_puddings/pudding_oos_unique</th>\n",
       "      <th>yogurt_&amp;_puddings/yogurt_TIC</th>\n",
       "      <th>yogurt_&amp;_puddings/yogurt_UIC</th>\n",
       "      <th>yogurt_&amp;_puddings/yogurt_oos_total</th>\n",
       "      <th>yogurt_&amp;_puddings/yogurt_oos_unique</th>\n",
       "    </tr>\n",
       "  </thead>\n",
       "  <tbody>\n",
       "    <tr>\n",
       "      <th>0</th>\n",
       "      <td>4</td>\n",
       "      <td>4</td>\n",
       "      <td>1.0</td>\n",
       "      <td>1.0</td>\n",
       "      <td>0</td>\n",
       "      <td>0</td>\n",
       "      <td>0</td>\n",
       "      <td>0.0</td>\n",
       "      <td>0.0</td>\n",
       "      <td>0</td>\n",
       "      <td>...</td>\n",
       "      <td>0.0</td>\n",
       "      <td>0.0</td>\n",
       "      <td>0</td>\n",
       "      <td>0</td>\n",
       "      <td>0.0</td>\n",
       "      <td>0.0</td>\n",
       "      <td>1</td>\n",
       "      <td>1</td>\n",
       "      <td>0.0</td>\n",
       "      <td>0.0</td>\n",
       "    </tr>\n",
       "    <tr>\n",
       "      <th>1</th>\n",
       "      <td>3</td>\n",
       "      <td>3</td>\n",
       "      <td>0.0</td>\n",
       "      <td>0.0</td>\n",
       "      <td>1</td>\n",
       "      <td>0</td>\n",
       "      <td>0</td>\n",
       "      <td>0.0</td>\n",
       "      <td>0.0</td>\n",
       "      <td>0</td>\n",
       "      <td>...</td>\n",
       "      <td>0.0</td>\n",
       "      <td>0.0</td>\n",
       "      <td>0</td>\n",
       "      <td>0</td>\n",
       "      <td>0.0</td>\n",
       "      <td>0.0</td>\n",
       "      <td>1</td>\n",
       "      <td>1</td>\n",
       "      <td>0.0</td>\n",
       "      <td>0.0</td>\n",
       "    </tr>\n",
       "    <tr>\n",
       "      <th>2</th>\n",
       "      <td>2</td>\n",
       "      <td>1</td>\n",
       "      <td>0.0</td>\n",
       "      <td>0.0</td>\n",
       "      <td>2</td>\n",
       "      <td>0</td>\n",
       "      <td>0</td>\n",
       "      <td>0.0</td>\n",
       "      <td>0.0</td>\n",
       "      <td>0</td>\n",
       "      <td>...</td>\n",
       "      <td>0.0</td>\n",
       "      <td>0.0</td>\n",
       "      <td>0</td>\n",
       "      <td>0</td>\n",
       "      <td>0.0</td>\n",
       "      <td>0.0</td>\n",
       "      <td>2</td>\n",
       "      <td>1</td>\n",
       "      <td>0.0</td>\n",
       "      <td>0.0</td>\n",
       "    </tr>\n",
       "    <tr>\n",
       "      <th>3</th>\n",
       "      <td>0</td>\n",
       "      <td>0</td>\n",
       "      <td>0.0</td>\n",
       "      <td>0.0</td>\n",
       "      <td>3</td>\n",
       "      <td>0</td>\n",
       "      <td>0</td>\n",
       "      <td>0.0</td>\n",
       "      <td>0.0</td>\n",
       "      <td>0</td>\n",
       "      <td>...</td>\n",
       "      <td>0.0</td>\n",
       "      <td>0.0</td>\n",
       "      <td>0</td>\n",
       "      <td>0</td>\n",
       "      <td>0.0</td>\n",
       "      <td>0.0</td>\n",
       "      <td>0</td>\n",
       "      <td>0</td>\n",
       "      <td>0.0</td>\n",
       "      <td>0.0</td>\n",
       "    </tr>\n",
       "    <tr>\n",
       "      <th>4</th>\n",
       "      <td>4</td>\n",
       "      <td>4</td>\n",
       "      <td>0.0</td>\n",
       "      <td>0.0</td>\n",
       "      <td>4</td>\n",
       "      <td>0</td>\n",
       "      <td>0</td>\n",
       "      <td>0.0</td>\n",
       "      <td>0.0</td>\n",
       "      <td>0</td>\n",
       "      <td>...</td>\n",
       "      <td>0.0</td>\n",
       "      <td>0.0</td>\n",
       "      <td>0</td>\n",
       "      <td>0</td>\n",
       "      <td>0.0</td>\n",
       "      <td>0.0</td>\n",
       "      <td>2</td>\n",
       "      <td>2</td>\n",
       "      <td>0.0</td>\n",
       "      <td>0.0</td>\n",
       "    </tr>\n",
       "  </tbody>\n",
       "</table>\n",
       "<p>5 rows × 873 columns</p>\n",
       "</div>"
      ],
      "text/plain": [
       "   /_TIC  /_UIC  /_oos_total  /_oos_unique  Unnamed: 0  alcohol/beer_TIC  \\\n",
       "0      4      4          1.0           1.0           0                 0   \n",
       "1      3      3          0.0           0.0           1                 0   \n",
       "2      2      1          0.0           0.0           2                 0   \n",
       "3      0      0          0.0           0.0           3                 0   \n",
       "4      4      4          0.0           0.0           4                 0   \n",
       "\n",
       "   alcohol/beer_UIC  alcohol/beer_oos_total  alcohol/beer_oos_unique  \\\n",
       "0                 0                     0.0                      0.0   \n",
       "1                 0                     0.0                      0.0   \n",
       "2                 0                     0.0                      0.0   \n",
       "3                 0                     0.0                      0.0   \n",
       "4                 0                     0.0                      0.0   \n",
       "\n",
       "   alcohol/cider_TIC                 ...                   voucher  \\\n",
       "0                  0                 ...                       0.0   \n",
       "1                  0                 ...                       0.0   \n",
       "2                  0                 ...                       0.0   \n",
       "3                  0                 ...                       0.0   \n",
       "4                  0                 ...                       0.0   \n",
       "\n",
       "   voucher_adjust_amount  yogurt_&_puddings/pudding_TIC  \\\n",
       "0                    0.0                              0   \n",
       "1                    0.0                              0   \n",
       "2                    0.0                              0   \n",
       "3                    0.0                              0   \n",
       "4                    0.0                              0   \n",
       "\n",
       "   yogurt_&_puddings/pudding_UIC  yogurt_&_puddings/pudding_oos_total  \\\n",
       "0                              0                                  0.0   \n",
       "1                              0                                  0.0   \n",
       "2                              0                                  0.0   \n",
       "3                              0                                  0.0   \n",
       "4                              0                                  0.0   \n",
       "\n",
       "   yogurt_&_puddings/pudding_oos_unique  yogurt_&_puddings/yogurt_TIC  \\\n",
       "0                                   0.0                             1   \n",
       "1                                   0.0                             1   \n",
       "2                                   0.0                             2   \n",
       "3                                   0.0                             0   \n",
       "4                                   0.0                             2   \n",
       "\n",
       "   yogurt_&_puddings/yogurt_UIC  yogurt_&_puddings/yogurt_oos_total  \\\n",
       "0                             1                                 0.0   \n",
       "1                             1                                 0.0   \n",
       "2                             1                                 0.0   \n",
       "3                             0                                 0.0   \n",
       "4                             2                                 0.0   \n",
       "\n",
       "   yogurt_&_puddings/yogurt_oos_unique  \n",
       "0                                  0.0  \n",
       "1                                  0.0  \n",
       "2                                  0.0  \n",
       "3                                  0.0  \n",
       "4                                  0.0  \n",
       "\n",
       "[5 rows x 873 columns]"
      ]
     },
     "execution_count": 3,
     "metadata": {},
     "output_type": "execute_result"
    }
   ],
   "source": [
    "#Using pandas for data manipulation\n",
    "order_df = pd.read_csv('raw_data.csv', encoding='cp1252', parse_dates=['order_completed_at', 'first_order'])\n",
    "\n",
    "# Masking some columns for data privacy\n",
    "order_df[order_df.columns.difference(['email','number'])].head()"
   ]
  },
  {
   "cell_type": "code",
   "execution_count": 3,
   "metadata": {
    "collapsed": false
   },
   "outputs": [
    {
     "name": "stdout",
     "output_type": "stream",
     "text": [
      "17315\n",
      "17315\n",
      "16419\n",
      "Replicated User Ids: 896\n"
     ]
    }
   ],
   "source": [
    "print(len(order_df['user_id'].unique()))\n",
    "print(len(order_df['email'].unique()))\n",
    "print(len(order_df['phone_number'].unique()))\n",
    "print('Replicated User Ids: {}'.format(len(order_df['user_id'].unique())-len(order_df['phone_number'].unique())))"
   ]
  },
  {
   "cell_type": "markdown",
   "metadata": {},
   "source": [
    "## Dropping unnecessary columns in our prediction model"
   ]
  },
  {
   "cell_type": "code",
   "execution_count": 6,
   "metadata": {
    "collapsed": false
   },
   "outputs": [],
   "source": [
    "order_df.sort_values(by='first_order', ascending=True).head()\n",
    "order_df.drop(['order_id','number','email','country_id','ordrnr','first_order', 'Unnamed: 0'], axis=1, inplace=True)"
   ]
  },
  {
   "cell_type": "code",
   "execution_count": 7,
   "metadata": {
    "collapsed": false
   },
   "outputs": [
    {
     "data": {
      "text/html": [
       "<div>\n",
       "<style>\n",
       "    .dataframe thead tr:only-child th {\n",
       "        text-align: right;\n",
       "    }\n",
       "\n",
       "    .dataframe thead th {\n",
       "        text-align: left;\n",
       "    }\n",
       "\n",
       "    .dataframe tbody tr th {\n",
       "        vertical-align: top;\n",
       "    }\n",
       "</style>\n",
       "<table border=\"1\" class=\"dataframe\">\n",
       "  <thead>\n",
       "    <tr style=\"text-align: right;\">\n",
       "      <th></th>\n",
       "      <th>count</th>\n",
       "    </tr>\n",
       "  </thead>\n",
       "  <tbody>\n",
       "    <tr>\n",
       "      <th>late</th>\n",
       "      <td>19</td>\n",
       "    </tr>\n",
       "    <tr>\n",
       "      <th>phone_number</th>\n",
       "      <td>197</td>\n",
       "    </tr>\n",
       "  </tbody>\n",
       "</table>\n",
       "</div>"
      ],
      "text/plain": [
       "              count\n",
       "late             19\n",
       "phone_number    197"
      ]
     },
     "execution_count": 7,
     "metadata": {},
     "output_type": "execute_result"
    }
   ],
   "source": [
    "missing_df = order_df.isnull().sum().to_frame(name='count')\n",
    "missing_df.loc[missing_df['count']>0]"
   ]
  },
  {
   "cell_type": "code",
   "execution_count": 8,
   "metadata": {
    "collapsed": true
   },
   "outputs": [],
   "source": [
    "# Remove_comma functions for floats and integers\n",
    "\n",
    "def remove_comma(data):\n",
    "    try:\n",
    "        removed = data.apply(lambda x:x.split(',')).str.join('').astype(int)\n",
    "        return removed\n",
    "    except AttributeError:\n",
    "        pass\n",
    "    \n",
    "def remove_comma_f(data):\n",
    "    removed = data.str.replace(',','').astype(float)\n",
    "    return removed\n",
    "    "
   ]
  },
  {
   "cell_type": "code",
   "execution_count": 9,
   "metadata": {
    "collapsed": false
   },
   "outputs": [],
   "source": [
    "# data masked"
   ]
  },
  {
   "cell_type": "code",
   "execution_count": 10,
   "metadata": {
    "collapsed": false
   },
   "outputs": [],
   "source": [
    "# data masked"
   ]
  },
  {
   "cell_type": "code",
   "execution_count": 11,
   "metadata": {
    "collapsed": false,
    "scrolled": true
   },
   "outputs": [],
   "source": [
    "# data masked\n",
    "\n",
    "for counter,val in enumerate(total_tic,1):\n",
    "    new_df = pd.concat([new_df,order_df[val].sum(axis=1).to_frame(counter)],axis=1, join_axes=[new_df.index])\n",
    "    \n",
    "for counter,val in enumerate(total_oos,17):\n",
    "    new_df = pd.concat([new_df,order_df[val].sum(axis=1).to_frame(counter)], axis=1, join_axes=[new_df.index])\n",
    "    "
   ]
  },
  {
   "cell_type": "code",
   "execution_count": 12,
   "metadata": {
    "collapsed": false
   },
   "outputs": [],
   "source": [
    "#data masked"
   ]
  },
  {
   "cell_type": "code",
   "execution_count": 13,
   "metadata": {
    "collapsed": false,
    "scrolled": true
   },
   "outputs": [
    {
     "data": {
      "text/html": [
       "<div>\n",
       "<style>\n",
       "    .dataframe thead tr:only-child th {\n",
       "        text-align: right;\n",
       "    }\n",
       "\n",
       "    .dataframe thead th {\n",
       "        text-align: left;\n",
       "    }\n",
       "\n",
       "    .dataframe tbody tr th {\n",
       "        vertical-align: top;\n",
       "    }\n",
       "</style>\n",
       "<table border=\"1\" class=\"dataframe\">\n",
       "  <thead>\n",
       "    <tr style=\"text-align: right;\">\n",
       "      <th></th>\n",
       "      <th>count</th>\n",
       "    </tr>\n",
       "  </thead>\n",
       "  <tbody>\n",
       "    <tr>\n",
       "      <th>late</th>\n",
       "      <td>19</td>\n",
       "    </tr>\n",
       "    <tr>\n",
       "      <th>phone_number</th>\n",
       "      <td>197</td>\n",
       "    </tr>\n",
       "  </tbody>\n",
       "</table>\n",
       "</div>"
      ],
      "text/plain": [
       "              count\n",
       "late             19\n",
       "phone_number    197"
      ]
     },
     "execution_count": 13,
     "metadata": {},
     "output_type": "execute_result"
    }
   ],
   "source": [
    "new_df.rename(columns=mapper, inplace=True)\n",
    "missing_df = new_df.isnull().sum().to_frame('count')\n",
    "missing_df.loc[missing_df['count']>0]\n"
   ]
  },
  {
   "cell_type": "markdown",
   "metadata": {},
   "source": [
    "## Removing users with less than 3 number of purchases\n",
    "    - We are working on the basis where purchases less than 3 would not provide enough insight in this model"
   ]
  },
  {
   "cell_type": "code",
   "execution_count": 14,
   "metadata": {
    "collapsed": false
   },
   "outputs": [],
   "source": [
    "# separating the missing handphone numbers\n",
    "missing_hp = new_df.loc[new_df['phone_number'].isnull()]\n",
    "new_df= new_df.loc[new_df['phone_number'].notnull()]\n",
    "\n",
    "user_df_o = pd.Series.to_frame(new_df['phone_number'].value_counts(),name='counts').reset_index()\n",
    "user_df_o.rename(columns={'index':'phone_number'}, inplace=True)\n",
    "user_df_m = pd.Series.to_frame(missing_hp['user_id'].value_counts(),name='counts').reset_index()\n",
    "user_df_m.rename(columns={'index':'user_id'}, inplace=True)\n",
    "\n",
    "\n",
    "drop_id_o = user_df_o.loc[user_df_o['counts'] <4, 'phone_number'].tolist()\n",
    "drop_id_m = user_df_m.loc[user_df_m['counts'] <4, 'user_id'].tolist()\n",
    "new_df = new_df[~new_df['phone_number'].isin(drop_id_o)]\n",
    "missing_hp = missing_hp[~missing_hp['user_id'].isin(drop_id_m)]"
   ]
  },
  {
   "cell_type": "markdown",
   "metadata": {},
   "source": [
    "Cleaning up basket_size column because it contains both str and floats"
   ]
  },
  {
   "cell_type": "code",
   "execution_count": 15,
   "metadata": {
    "collapsed": false,
    "scrolled": true
   },
   "outputs": [],
   "source": [
    "new_df['basket_size'] = new_df['basket_size'].astype(str).str.replace(',','')\n",
    "new_df['basket_size'] = new_df['basket_size'].astype(float)\n",
    "missing_hp['basket_size'] = missing_hp['basket_size'].astype(str).str.replace(',','')\n",
    "missing_hp['basket_size'] = missing_hp['basket_size'].astype(float)"
   ]
  },
  {
   "cell_type": "code",
   "execution_count": 16,
   "metadata": {
    "collapsed": false
   },
   "outputs": [],
   "source": [
    "# delta_t_order in days is the time between orders of each user\n",
    " \n",
    "new_df['delta_t_order'] = (new_df.sort_values(by='order_completed_at').groupby('phone_number')['order_completed_at'].diff().astype('timedelta64[m]')/1440).round(2)\n",
    "missing_hp['delta_t_order'] = (missing_hp.sort_values(\n",
    "    by='order_completed_at').groupby('user_id')['order_completed_at'].diff().astype('timedelta64[m]')/1440).round(2)\n",
    "\n",
    "# computing the percentage change ratio between purchases\n",
    "ratios = ['basket_size', 'total_items','unique_item']\n",
    "for i in ratios:\n",
    "    new_df[i+'_ratio'] = new_df.sort_values(by='order_completed_at', ascending=True).groupby('phone_number')[i].pct_change()\n",
    "    missing_hp[i+'_ratio'] = missing_hp.sort_values(by='order_completed_at',ascending=True).groupby('user_id')[i].pct_change()\n",
    "\n",
    "    \n",
    "new_df['basket_size_ratio'] = new_df['basket_size_ratio'].abs()\n",
    "new_df['total_items_ratio'] = new_df['total_items_ratio'].abs()\n",
    "new_df['unique_item_ratio'] = new_df['unique_item_ratio'].abs()\n",
    "\n",
    "missing_hp['basket_size_ratio'] = missing_hp['basket_size_ratio'].abs()\n",
    "missing_hp['total_items_ratio'] = missing_hp['total_items_ratio'].abs()\n",
    "missing_hp['unique_item_ratio'] = missing_hp['unique_item_ratio'].abs()\n"
   ]
  },
  {
   "cell_type": "code",
   "execution_count": 17,
   "metadata": {
    "collapsed": false,
    "scrolled": true
   },
   "outputs": [],
   "source": [
    "new_df['late'].fillna(0, inplace=True)\n",
    "new_df.dropna(how='any',axis=0,inplace=True)"
   ]
  },
  {
   "cell_type": "code",
   "execution_count": 18,
   "metadata": {
    "collapsed": false
   },
   "outputs": [],
   "source": [
    "dt = pd.DatetimeIndex(new_df['order_completed_at'])\n",
    "new_df['month'] = dt.month\n",
    "new_df['hour'] = dt.hour\n",
    "new_df['month'] = new_df['month'].map({1:'January',\n",
    "                                         2:'February',\n",
    "                                         3:'March',\n",
    "                                         4:'April',\n",
    "                                         5:'May',\n",
    "                                         6:'June',\n",
    "                                         7:'July',\n",
    "                                         8:'August',\n",
    "                                         9:'September',\n",
    "                                         10:'October',\n",
    "                                         11:'November',\n",
    "                                         12:'December'})\n",
    "new_df = pd.get_dummies(new_df, columns=['month','hour'])\n",
    "\n",
    "dt = pd.DatetimeIndex(missing_hp['order_completed_at'])\n",
    "missing_hp['month'] = dt.month\n",
    "missing_hp['hour'] = dt.hour\n",
    "missing_hp['month'] = missing_hp['month'].map({1:'January',\n",
    "                                             2:'February',\n",
    "                                             3:'March',\n",
    "                                             4:'April',\n",
    "                                             5:'May',\n",
    "                                             6:'June',\n",
    "                                             7:'July',\n",
    "                                             8:'August',\n",
    "                                             9:'September',\n",
    "                                             10:'October',\n",
    "                                             11:'November',\n",
    "                                             12:'December'})\n",
    "\n",
    "missing_hp = pd.get_dummies(missing_hp, columns=['month','hour'])\n"
   ]
  },
  {
   "cell_type": "code",
   "execution_count": 19,
   "metadata": {
    "collapsed": false
   },
   "outputs": [],
   "source": [
    "months =['month_April', 'month_August', 'month_February', 'month_January',\n",
    "       'month_July', 'month_June', 'month_March', 'month_May',\n",
    "       'month_November', 'month_October', 'month_September']\n",
    "new_df.rename(columns =lambda x:x.split('_')[1] if x in months else x, inplace=True)\n",
    "missing_hp.rename(columns = lambda x:x.split('_')[1] if x in months else x, inplace=True)"
   ]
  },
  {
   "cell_type": "code",
   "execution_count": 20,
   "metadata": {
    "collapsed": false
   },
   "outputs": [],
   "source": [
    "#data masked"
   ]
  },
  {
   "cell_type": "code",
   "execution_count": 21,
   "metadata": {
    "collapsed": false
   },
   "outputs": [],
   "source": [
    "group_df = new_df.copy()\n",
    "group_mdf = missing_hp.copy()"
   ]
  },
  {
   "cell_type": "code",
   "execution_count": 24,
   "metadata": {
    "collapsed": false
   },
   "outputs": [],
   "source": [
    "group_df.drop(['old_user','diffmonth','stock_location_id', 'oid','sum','voucher', 'cs_voucher',\n",
    "       'referral', 'late_voucher', 'voucher_adjust_amount', 'first_delivery',\n",
    "       'delivery_voucher', 'cs_delivery_voucher', 'delivery_referral',\n",
    "       'delivery_late_voucher'],axis=1, inplace=True)\n",
    "group_mdf.drop(['old_user','diffmonth','stock_location_id', 'oid','sum','voucher', 'cs_voucher',\n",
    "       'referral', 'late_voucher', 'voucher_adjust_amount', 'first_delivery',\n",
    "       'delivery_voucher', 'cs_delivery_voucher', 'delivery_referral',\n",
    "       'delivery_late_voucher'],axis=1, inplace=True)"
   ]
  },
  {
   "cell_type": "code",
   "execution_count": 25,
   "metadata": {
    "collapsed": false
   },
   "outputs": [],
   "source": [
    "# Rearranging the columns and combining them to form features\n",
    "# You will realize why some columns are grouped by sum and others by mean\n",
    "# Values grouped by sum are used to compute the purchase pattern later on\n",
    "\n",
    "\n",
    "#data masked\n"
   ]
  },
  {
   "cell_type": "code",
   "execution_count": 26,
   "metadata": {
    "collapsed": false
   },
   "outputs": [],
   "source": [
    "t_file1 = group_df[features].groupby(['phone_number'], as_index=False).mean()\n",
    "t_file2 = group_df[months_1].groupby(['phone_number'], as_index=False).sum()\n",
    "t_file3 = group_mdf[features].groupby(['user_id'], as_index=False).mean()\n",
    "t_file4 = group_mdf[months_2].groupby(['user_id'], as_index=False).sum()"
   ]
  },
  {
   "cell_type": "code",
   "execution_count": 27,
   "metadata": {
    "collapsed": false
   },
   "outputs": [
    {
     "data": {
      "text/html": [
       "<div>\n",
       "<style>\n",
       "    .dataframe thead tr:only-child th {\n",
       "        text-align: right;\n",
       "    }\n",
       "\n",
       "    .dataframe thead th {\n",
       "        text-align: left;\n",
       "    }\n",
       "\n",
       "    .dataframe tbody tr th {\n",
       "        vertical-align: top;\n",
       "    }\n",
       "</style>\n",
       "<table border=\"1\" class=\"dataframe\">\n",
       "  <thead>\n",
       "    <tr style=\"text-align: right;\">\n",
       "      <th></th>\n",
       "      <th>user_id</th>\n",
       "      <th>basket_size_ratio</th>\n",
       "      <th>total_items_ratio</th>\n",
       "      <th>unique_item_ratio</th>\n",
       "      <th>delta_t_order</th>\n",
       "      <th>next_hour_delivery</th>\n",
       "      <th>basket_size</th>\n",
       "      <th>total_items</th>\n",
       "      <th>unique_item</th>\n",
       "      <th>gross_out_of_stock_unit</th>\n",
       "      <th>...</th>\n",
       "      <th>September</th>\n",
       "      <th>hour_3</th>\n",
       "      <th>hour_8</th>\n",
       "      <th>hour_11</th>\n",
       "      <th>hour_12</th>\n",
       "      <th>hour_13</th>\n",
       "      <th>hour_14</th>\n",
       "      <th>hour_19</th>\n",
       "      <th>hour_23</th>\n",
       "      <th>phone_number</th>\n",
       "    </tr>\n",
       "  </thead>\n",
       "  <tbody>\n",
       "    <tr>\n",
       "      <th>0</th>\n",
       "      <td>1,283</td>\n",
       "      <td>0.769199</td>\n",
       "      <td>0.536642</td>\n",
       "      <td>0.470479</td>\n",
       "      <td>26.976667</td>\n",
       "      <td>0.0</td>\n",
       "      <td>234.157143</td>\n",
       "      <td>33.142857</td>\n",
       "      <td>10.142857</td>\n",
       "      <td>14.714286</td>\n",
       "      <td>...</td>\n",
       "      <td>0</td>\n",
       "      <td>0</td>\n",
       "      <td>3</td>\n",
       "      <td>3</td>\n",
       "      <td>0</td>\n",
       "      <td>1</td>\n",
       "      <td>0</td>\n",
       "      <td>0</td>\n",
       "      <td>0</td>\n",
       "      <td>1213419</td>\n",
       "    </tr>\n",
       "    <tr>\n",
       "      <th>1</th>\n",
       "      <td>507,587</td>\n",
       "      <td>0.066646</td>\n",
       "      <td>0.246518</td>\n",
       "      <td>0.362659</td>\n",
       "      <td>26.932500</td>\n",
       "      <td>0.0</td>\n",
       "      <td>212.860000</td>\n",
       "      <td>23.000000</td>\n",
       "      <td>16.200000</td>\n",
       "      <td>6.400000</td>\n",
       "      <td>...</td>\n",
       "      <td>0</td>\n",
       "      <td>1</td>\n",
       "      <td>1</td>\n",
       "      <td>0</td>\n",
       "      <td>0</td>\n",
       "      <td>1</td>\n",
       "      <td>2</td>\n",
       "      <td>0</td>\n",
       "      <td>0</td>\n",
       "      <td>1153731</td>\n",
       "    </tr>\n",
       "    <tr>\n",
       "      <th>2</th>\n",
       "      <td>514,829</td>\n",
       "      <td>0.189719</td>\n",
       "      <td>0.644854</td>\n",
       "      <td>0.419643</td>\n",
       "      <td>21.202500</td>\n",
       "      <td>0.0</td>\n",
       "      <td>408.840000</td>\n",
       "      <td>15.400000</td>\n",
       "      <td>7.600000</td>\n",
       "      <td>1.800000</td>\n",
       "      <td>...</td>\n",
       "      <td>4</td>\n",
       "      <td>0</td>\n",
       "      <td>0</td>\n",
       "      <td>0</td>\n",
       "      <td>3</td>\n",
       "      <td>0</td>\n",
       "      <td>0</td>\n",
       "      <td>1</td>\n",
       "      <td>1</td>\n",
       "      <td>1437737</td>\n",
       "    </tr>\n",
       "  </tbody>\n",
       "</table>\n",
       "<p>3 rows × 63 columns</p>\n",
       "</div>"
      ],
      "text/plain": [
       "   user_id  basket_size_ratio  total_items_ratio  unique_item_ratio  \\\n",
       "0    1,283           0.769199           0.536642           0.470479   \n",
       "1  507,587           0.066646           0.246518           0.362659   \n",
       "2  514,829           0.189719           0.644854           0.419643   \n",
       "\n",
       "   delta_t_order  next_hour_delivery  basket_size  total_items  unique_item  \\\n",
       "0      26.976667                 0.0   234.157143    33.142857    10.142857   \n",
       "1      26.932500                 0.0   212.860000    23.000000    16.200000   \n",
       "2      21.202500                 0.0   408.840000    15.400000     7.600000   \n",
       "\n",
       "   gross_out_of_stock_unit      ...       September  hour_3  hour_8  hour_11  \\\n",
       "0                14.714286      ...               0       0       3        3   \n",
       "1                 6.400000      ...               0       1       1        0   \n",
       "2                 1.800000      ...               4       0       0        0   \n",
       "\n",
       "   hour_12  hour_13  hour_14  hour_19  hour_23  phone_number  \n",
       "0        0        1        0        0        0       1213419  \n",
       "1        0        1        2        0        0       1153731  \n",
       "2        3        0        0        1        1       1437737  \n",
       "\n",
       "[3 rows x 63 columns]"
      ]
     },
     "execution_count": 27,
     "metadata": {},
     "output_type": "execute_result"
    }
   ],
   "source": [
    "t_file5 = pd.merge(t_file1,t_file2,how='left', on='phone_number')\n",
    "t_file6 = pd.merge(t_file3, t_file4, how='left',on='user_id')\n",
    "t_file6['phone_number'] = np.random.randint(1000000,2000000 ,size=t_file6.shape[0])\n",
    "t_file6"
   ]
  },
  {
   "cell_type": "code",
   "execution_count": 28,
   "metadata": {
    "collapsed": false,
    "scrolled": true
   },
   "outputs": [
    {
     "data": {
      "text/html": [
       "<div>\n",
       "<style>\n",
       "    .dataframe thead tr:only-child th {\n",
       "        text-align: right;\n",
       "    }\n",
       "\n",
       "    .dataframe thead th {\n",
       "        text-align: left;\n",
       "    }\n",
       "\n",
       "    .dataframe tbody tr th {\n",
       "        vertical-align: top;\n",
       "    }\n",
       "</style>\n",
       "<table border=\"1\" class=\"dataframe\">\n",
       "  <thead>\n",
       "    <tr style=\"text-align: right;\">\n",
       "      <th></th>\n",
       "      <th>April</th>\n",
       "      <th>August</th>\n",
       "      <th>February</th>\n",
       "      <th>January</th>\n",
       "      <th>July</th>\n",
       "      <th>June</th>\n",
       "      <th>March</th>\n",
       "      <th>May</th>\n",
       "      <th>November</th>\n",
       "      <th>October</th>\n",
       "      <th>...</th>\n",
       "      <th>meat_milk_tic</th>\n",
       "      <th>next_hour_delivery</th>\n",
       "      <th>phone_number</th>\n",
       "      <th>rejected_unit</th>\n",
       "      <th>total_items</th>\n",
       "      <th>total_items_ratio</th>\n",
       "      <th>unique_item</th>\n",
       "      <th>unique_item_ratio</th>\n",
       "      <th>unique_out_of_stock</th>\n",
       "      <th>unique_replacement_unit</th>\n",
       "    </tr>\n",
       "  </thead>\n",
       "  <tbody>\n",
       "    <tr>\n",
       "      <th>0</th>\n",
       "      <td>0</td>\n",
       "      <td>8</td>\n",
       "      <td>0</td>\n",
       "      <td>0.0</td>\n",
       "      <td>6</td>\n",
       "      <td>0</td>\n",
       "      <td>0</td>\n",
       "      <td>0</td>\n",
       "      <td>4.0</td>\n",
       "      <td>15.0</td>\n",
       "      <td>...</td>\n",
       "      <td>2.148936</td>\n",
       "      <td>0.042553</td>\n",
       "      <td>6</td>\n",
       "      <td>1.574468</td>\n",
       "      <td>21.446809</td>\n",
       "      <td>1.376359</td>\n",
       "      <td>10.680851</td>\n",
       "      <td>1.232026</td>\n",
       "      <td>2.255319</td>\n",
       "      <td>1.212766</td>\n",
       "    </tr>\n",
       "    <tr>\n",
       "      <th>1</th>\n",
       "      <td>0</td>\n",
       "      <td>0</td>\n",
       "      <td>0</td>\n",
       "      <td>0.0</td>\n",
       "      <td>1</td>\n",
       "      <td>0</td>\n",
       "      <td>0</td>\n",
       "      <td>2</td>\n",
       "      <td>0.0</td>\n",
       "      <td>0.0</td>\n",
       "      <td>...</td>\n",
       "      <td>0.666667</td>\n",
       "      <td>0.000000</td>\n",
       "      <td>1.22832e+08</td>\n",
       "      <td>0.000000</td>\n",
       "      <td>15.666667</td>\n",
       "      <td>0.857143</td>\n",
       "      <td>12.000000</td>\n",
       "      <td>1.060548</td>\n",
       "      <td>1.666667</td>\n",
       "      <td>1.666667</td>\n",
       "    </tr>\n",
       "    <tr>\n",
       "      <th>2</th>\n",
       "      <td>4</td>\n",
       "      <td>0</td>\n",
       "      <td>1</td>\n",
       "      <td>0.0</td>\n",
       "      <td>0</td>\n",
       "      <td>0</td>\n",
       "      <td>4</td>\n",
       "      <td>7</td>\n",
       "      <td>0.0</td>\n",
       "      <td>0.0</td>\n",
       "      <td>...</td>\n",
       "      <td>0.125000</td>\n",
       "      <td>0.437500</td>\n",
       "      <td>6.01208e+09</td>\n",
       "      <td>0.187500</td>\n",
       "      <td>12.437500</td>\n",
       "      <td>0.818916</td>\n",
       "      <td>9.125000</td>\n",
       "      <td>0.873031</td>\n",
       "      <td>2.125000</td>\n",
       "      <td>1.437500</td>\n",
       "    </tr>\n",
       "    <tr>\n",
       "      <th>3</th>\n",
       "      <td>1</td>\n",
       "      <td>0</td>\n",
       "      <td>0</td>\n",
       "      <td>0.0</td>\n",
       "      <td>0</td>\n",
       "      <td>1</td>\n",
       "      <td>0</td>\n",
       "      <td>1</td>\n",
       "      <td>0.0</td>\n",
       "      <td>0.0</td>\n",
       "      <td>...</td>\n",
       "      <td>1.000000</td>\n",
       "      <td>0.000000</td>\n",
       "      <td>6.01227e+09</td>\n",
       "      <td>0.000000</td>\n",
       "      <td>18.000000</td>\n",
       "      <td>0.388760</td>\n",
       "      <td>16.666667</td>\n",
       "      <td>0.423696</td>\n",
       "      <td>1.666667</td>\n",
       "      <td>1.666667</td>\n",
       "    </tr>\n",
       "    <tr>\n",
       "      <th>4</th>\n",
       "      <td>0</td>\n",
       "      <td>1</td>\n",
       "      <td>0</td>\n",
       "      <td>0.0</td>\n",
       "      <td>2</td>\n",
       "      <td>0</td>\n",
       "      <td>0</td>\n",
       "      <td>1</td>\n",
       "      <td>0.0</td>\n",
       "      <td>1.0</td>\n",
       "      <td>...</td>\n",
       "      <td>0.000000</td>\n",
       "      <td>0.000000</td>\n",
       "      <td>6.01744e+09</td>\n",
       "      <td>8.833333</td>\n",
       "      <td>14.166667</td>\n",
       "      <td>0.506361</td>\n",
       "      <td>3.500000</td>\n",
       "      <td>0.885714</td>\n",
       "      <td>0.666667</td>\n",
       "      <td>0.500000</td>\n",
       "    </tr>\n",
       "  </tbody>\n",
       "</table>\n",
       "<p>5 rows × 81 columns</p>\n",
       "</div>"
      ],
      "text/plain": [
       "   April  August  February  January  July  June  March  May  November  \\\n",
       "0      0       8         0      0.0     6     0      0    0       4.0   \n",
       "1      0       0         0      0.0     1     0      0    2       0.0   \n",
       "2      4       0         1      0.0     0     0      4    7       0.0   \n",
       "3      1       0         0      0.0     0     1      0    1       0.0   \n",
       "4      0       1         0      0.0     2     0      0    1       0.0   \n",
       "\n",
       "   October           ...             meat_milk_tic  next_hour_delivery  \\\n",
       "0     15.0           ...                  2.148936            0.042553   \n",
       "1      0.0           ...                  0.666667            0.000000   \n",
       "2      0.0           ...                  0.125000            0.437500   \n",
       "3      0.0           ...                  1.000000            0.000000   \n",
       "4      1.0           ...                  0.000000            0.000000   \n",
       "\n",
       "   phone_number  rejected_unit  total_items  total_items_ratio  unique_item  \\\n",
       "0             6       1.574468    21.446809           1.376359    10.680851   \n",
       "1   1.22832e+08       0.000000    15.666667           0.857143    12.000000   \n",
       "2   6.01208e+09       0.187500    12.437500           0.818916     9.125000   \n",
       "3   6.01227e+09       0.000000    18.000000           0.388760    16.666667   \n",
       "4   6.01744e+09       8.833333    14.166667           0.506361     3.500000   \n",
       "\n",
       "   unique_item_ratio  unique_out_of_stock  unique_replacement_unit  \n",
       "0           1.232026             2.255319                 1.212766  \n",
       "1           1.060548             1.666667                 1.666667  \n",
       "2           0.873031             2.125000                 1.437500  \n",
       "3           0.423696             1.666667                 1.666667  \n",
       "4           0.885714             0.666667                 0.500000  \n",
       "\n",
       "[5 rows x 81 columns]"
      ]
     },
     "execution_count": 28,
     "metadata": {},
     "output_type": "execute_result"
    }
   ],
   "source": [
    "result = t_file5.append(t_file6)\n",
    "result.drop(['user_id'],axis=1,inplace=True)\n",
    "result.fillna(0, inplace=True)\n",
    "result.reset_index(drop=True,inplace=True)\n",
    "result.head()"
   ]
  },
  {
   "cell_type": "markdown",
   "metadata": {},
   "source": [
    "### 2 model approach\n",
    "   - Gradient Boosting Classifier\n",
    "   - Random Forest Classifier"
   ]
  },
  {
   "cell_type": "code",
   "execution_count": 32,
   "metadata": {
    "collapsed": false
   },
   "outputs": [
    {
     "name": "stderr",
     "output_type": "stream",
     "text": [
      "C:\\Users\\Max Yap\\Anaconda3\\lib\\site-packages\\sklearn\\cross_validation.py:44: DeprecationWarning: This module was deprecated in version 0.18 in favor of the model_selection module into which all the refactored classes and functions are moved. Also note that the interface of the new CV iterators are different from that of this module. This module will be removed in 0.20.\n",
      "  \"This module will be removed in 0.20.\", DeprecationWarning)\n",
      "C:\\Users\\Max Yap\\Anaconda3\\lib\\site-packages\\sklearn\\grid_search.py:43: DeprecationWarning: This module was deprecated in version 0.18 in favor of the model_selection module into which all the refactored classes and functions are moved. This module will be removed in 0.20.\n",
      "  DeprecationWarning)\n",
      "C:\\Users\\Max Yap\\Anaconda3\\lib\\site-packages\\sklearn\\learning_curve.py:23: DeprecationWarning: This module was deprecated in version 0.18 in favor of the model_selection module into which all the functions are moved. This module will be removed in 0.20\n",
      "  DeprecationWarning)\n"
     ]
    }
   ],
   "source": [
    "from sklearn.pipeline import Pipeline\n",
    "from sklearn.ensemble import GradientBoostingClassifier\n",
    "from sklearn.model_selection import cross_val_score\n",
    "from sklearn.metrics import roc_auc_score\n",
    "from sklearn.model_selection import  train_test_split\n",
    "from sklearn.grid_search import GridSearchCV\n",
    "from sklearn.ensemble import RandomForestClassifier\n",
    "from sklearn.learning_curve import learning_curve"
   ]
  },
  {
   "cell_type": "code",
   "execution_count": 33,
   "metadata": {
    "collapsed": false
   },
   "outputs": [
    {
     "data": {
      "text/plain": [
       "0.0    0.650763\n",
       "1.0    0.349237\n",
       "Name: November, dtype: float64"
      ]
     },
     "execution_count": 33,
     "metadata": {},
     "output_type": "execute_result"
    }
   ],
   "source": [
    "# We will not go for a multiclass output for the moment because we are only interested if the customer\n",
    "# comes back at least once on the particular month\n",
    "# Among users with at least 4 purchases, 35% of them come back on November\n",
    "result.loc[result['November']>1,'November']=1\n",
    "result['November'].value_counts()/len(result['November'])\n"
   ]
  },
  {
   "cell_type": "code",
   "execution_count": 34,
   "metadata": {
    "collapsed": true
   },
   "outputs": [],
   "source": [
    "import re\n",
    "\n",
    "# Changing all values to one for customer pattern generation\n",
    "# Months that we are interested to change\n",
    "o_months =[\n",
    "    'January','February', 'March', 'April', 'May', 'June','July','August','September', 'October',\n",
    "    ]\n",
    "\n",
    "t_months = result[o_months].astype(np.uint8)\n",
    "for x in o_months:\n",
    "    t_months.loc[t_months[x] >=1, x] =1\n",
    "\n",
    "    \n",
    "t_pattern = t_months.astype(str).apply(lambda x: ''.join(x), axis=1)\n",
    "t_pattern = t_pattern.to_frame(name='pattern')\n",
    "result = pd.concat([result, t_pattern], axis=1, join_axes=[result.index])"
   ]
  },
  {
   "cell_type": "code",
   "execution_count": 35,
   "metadata": {
    "collapsed": true
   },
   "outputs": [],
   "source": [
    "temp = result['pattern'].str.findall(r'(0)(?=\\1)')\n",
    "temp01 = result['pattern'].str.findall(r'(01)')\n",
    "temp10 = result['pattern'].str.findall(r'(10)')\n",
    "temp11 = result['pattern'].str.findall(r'(1)(?=\\1)')\n",
    "temp00 = t_pattern['pattern'].str.findall(r'0+$').to_frame()\n",
    "temp00 = temp00['pattern'].str[0]\n",
    "temp00.fillna('x', inplace=True)\n",
    "\n",
    "\n",
    "#pattern_00 is the number of consecutive non-purchases made\n",
    "#pattern_01 is the number of new purchases where no purchase was made in previous month\n",
    "#pattern_10 is the number of no purchase made after a purchase was made in the previous month\n",
    "#pattern_11 is the number of consecutive purchase made\n",
    "#pattern_len00 is the number of consecutive non-purchase made till the November\n",
    "\n",
    "result['pattern_00'] = temp.apply(lambda x:x.count('0'))\n",
    "result['pattern_01'] = temp01.apply(lambda x:x.count('01'))\n",
    "result['pattern_10'] = temp10.apply(lambda x:x.count('10'))\n",
    "result['pattern_11'] = temp11.apply(lambda x:x.count('1')) \n",
    "result['pattern_len00'] = temp00.str.count('0')\n",
    "\n",
    "\n"
   ]
  },
  {
   "cell_type": "code",
   "execution_count": 36,
   "metadata": {
    "collapsed": true
   },
   "outputs": [],
   "source": [
    "# data masked\n",
    "\n",
    "X_train,X_test,y_train,y_test = train_test_split(X_data, y_data, test_size=0.33, random_state=54)"
   ]
  },
  {
   "cell_type": "code",
   "execution_count": 38,
   "metadata": {
    "collapsed": false,
    "scrolled": true
   },
   "outputs": [],
   "source": [
    "from sklearn.feature_selection import SelectFromModel\n",
    "from sklearn.linear_model import LogisticRegression\n",
    "from sklearn.preprocessing import StandardScaler\n",
    "from sklearn.model_selection import StratifiedKFold\n",
    "from sklearn.feature_selection import RFECV\n",
    "from sklearn.metrics import roc_curve\n"
   ]
  },
  {
   "cell_type": "code",
   "execution_count": 39,
   "metadata": {
    "collapsed": true
   },
   "outputs": [],
   "source": [
    "\n",
    "\n",
    "def plot_roc_curve(pipeline, y_pred, y_proba, y_test):\n",
    "    '''\n",
    "    Plot ROC curve with data from function above.\n",
    "    '''\n",
    "    tpr, fpr, thresholds = roc_curve(y_proba, y_test)\n",
    "\n",
    "    model_name = pipeline.named_steps['classifier'].__class__.__name__\n",
    "    auc = round(roc_auc_score(y_test, y_pred), 3)\n",
    "    plt.plot(fpr, tpr, label='{}, AUC: {}'.format(model_name, auc))"
   ]
  },
  {
   "cell_type": "markdown",
   "metadata": {},
   "source": [
    "## Profit Curve function"
   ]
  },
  {
   "cell_type": "code",
   "execution_count": 40,
   "metadata": {
    "collapsed": true
   },
   "outputs": [],
   "source": [
    "from sklearn.metrics import confusion_matrix\n",
    "def standard_confusion_matrix(y_true, y_pred):\n",
    "    '''\n",
    "    Reformat confusion matrix output from sklearn for plotting profit curve.\n",
    "    '''\n",
    "    [[tn, fp], [fn, tp]] = confusion_matrix(y_true, y_pred)\n",
    "    return np.array([[tp, fp], [fn, tn]])\n",
    "\n",
    "def plot_profit_curve(pipeline, costbenefit_mat, y_proba, y_test):\n",
    "    '''\n",
    "    Plot profit curve.\n",
    "    \n",
    "    INPUTS:\n",
    "    - model object\n",
    "    - cost benefit matrix in the same format as the confusion matrix above\n",
    "    - predicted probabilities\n",
    "    - actual labels\n",
    "    ''' \n",
    "\n",
    "    # Profit curve data\n",
    "    profits = [] # one profit value for each T (threshold)\n",
    "    thresholds = sorted(y_proba, reverse=True)\n",
    "    \n",
    "    # For each threshold, calculate profit - starting with largest threshold\n",
    "    for T in thresholds:\n",
    "        y_pred = (y_proba > T).astype(int)\n",
    "        confusion_mat = standard_confusion_matrix(y_test, y_pred)\n",
    "        # Calculate total profit for this threshold\n",
    "        profit = sum(sum(confusion_mat * costbenefit_mat)) \n",
    "        profits.append(profit)\n",
    "    \n",
    "    # Profit curve plot\n",
    "    model_name = pipeline.named_steps['classifier'].__class__.__name__\n",
    "    max_profit = max(profits)\n",
    "    line2d =plt.plot(np.linspace(0, 1, len(y_test)), profits, label = '{}, max profit ${} per user'.format(model_name, max_profit))\n",
    "    \n",
    "    "
   ]
  },
  {
   "cell_type": "code",
   "execution_count": 41,
   "metadata": {
    "collapsed": true
   },
   "outputs": [],
   "source": [
    "class Classifiers(object):\n",
    "    \n",
    "    def __init__(self, classifier_list):\n",
    "        self.classifiers = classifier_list\n",
    "        self.classifier_names = [est.__class__.__name__ for est in self.classifiers]\n",
    "        \n",
    "        self.pipelines = []\n",
    "        \n",
    "    def create_pipelines(self):\n",
    "        for classifier in self.classifiers:\n",
    "            self.pipelines.append(Pipeline([\n",
    "                        ('scale', StandardScaler()),\n",
    "                        ('classifier',classifier)\n",
    "                    ]))\n",
    "            \n",
    "    def train(self, X_train, y_train):\n",
    "        for pipeline in self.pipelines:\n",
    "            pipeline.fit(X_train,y_train)\n",
    "    \n",
    "    def accuracy_scores(self, X_test, y_test):\n",
    "        # lists to store classifier test scores\n",
    "        self.accuracies = []\n",
    "        \n",
    "        for pipeline in self.pipelines:\n",
    "            self.accuracies.append(pipeline.score(X_test,y_test))\n",
    "            \n",
    "        accuracy_df = pd.DataFrame(list(zip(self.classifier_names, \n",
    "                                      self.accuracies)))\n",
    "        accuracy_df.columns = ['Classifier', 'Accuracy']\n",
    "        \n",
    "        print(accuracy_df)\n",
    "        \n",
    "    def plot_roc_curve(self, X_test, y_test):\n",
    "        \n",
    "        plt.figure(figsize=(10,6))\n",
    "        for pipeline in self.pipelines:\n",
    "            y_pred = pipeline.predict(X_test)\n",
    "            y_proba = pipeline.predict_proba(X_test)[:,1]\n",
    "            \n",
    "            fpr,tpr,thresholds = roc_curve(y_test, y_proba)\n",
    "\n",
    "            model_name = pipeline.named_steps['classifier'].__class__.__name__\n",
    "            auc = round(roc_auc_score(y_test, y_proba), 3)\n",
    "            plt.plot(fpr, tpr, label='{}, AUC: {}'.format(model_name, auc))            \n",
    "\n",
    "\n",
    "        plt.plot([0,1],[0,1], color='navy',lw=3, linestyle='--')\n",
    "        # Plot labels\n",
    "        plt.xlabel('False Positive Rate (1 - Specificity)')\n",
    "        plt.ylabel('True Positive Rate (Sensitivity, Recall)')\n",
    "        plt.title('ROC Plots')\n",
    "        plt.legend(loc='lower right')\n",
    "        plt.show()\n",
    "        \n",
    "    def plot_profit_curve(self, costbenefit_mat, X_test, y_test):\n",
    "        \n",
    "        plt.figure(figsize=(10,6))\n",
    "        for pipeline in self.pipelines:\n",
    "            y_proba = pipeline.predict_proba(X_test)[:,1]\n",
    "            plot_profit_curve(pipeline, costbenefit_mat, y_proba,\n",
    "                             y_test)\n",
    "            \n",
    "            \n",
    "        # Plot labels\n",
    "        plt.xlabel('Percentage of test instances (decreasing by score)')\n",
    "        plt.ylabel('Profit')\n",
    "        plt.title('Profit Curves')\n",
    "        plt.legend(loc='lower left')\n",
    "        plt.show()     \n",
    "    \n",
    "   \n",
    "            \n",
    "                                  "
   ]
  },
  {
   "cell_type": "code",
   "execution_count": 42,
   "metadata": {
    "collapsed": false
   },
   "outputs": [],
   "source": [
    "rf = RandomForestClassifier()\n",
    "gbc = GradientBoostingClassifier()\n",
    "\n",
    "clfs = Classifiers([rf,gbc])"
   ]
  },
  {
   "cell_type": "code",
   "execution_count": 43,
   "metadata": {
    "collapsed": false
   },
   "outputs": [],
   "source": [
    "clfs.create_pipelines()"
   ]
  },
  {
   "cell_type": "code",
   "execution_count": 44,
   "metadata": {
    "collapsed": true
   },
   "outputs": [],
   "source": [
    "clfs.train(X_train,y_train['November'])"
   ]
  },
  {
   "cell_type": "code",
   "execution_count": 45,
   "metadata": {
    "collapsed": false
   },
   "outputs": [
    {
     "name": "stdout",
     "output_type": "stream",
     "text": [
      "                   Classifier  Accuracy\n",
      "0      RandomForestClassifier  0.751284\n",
      "1  GradientBoostingClassifier  0.763756\n"
     ]
    }
   ],
   "source": [
    "clfs.accuracy_scores(X_test, y_test['November'])"
   ]
  },
  {
   "cell_type": "code",
   "execution_count": 46,
   "metadata": {
    "collapsed": false,
    "scrolled": false
   },
   "outputs": [
    {
     "data": {
      "image/png": "[encoded data removed]",
      "text/plain": [
       "<matplotlib.figure.Figure at 0x22009f19470>"
      ]
     },
     "metadata": {},
     "output_type": "display_data"
    }
   ],
   "source": [
    "clfs.plot_roc_curve(X_test,y_test['November'])"
   ]
  },
  {
   "cell_type": "code",
   "execution_count": 47,
   "metadata": {
    "collapsed": false,
    "scrolled": false
   },
   "outputs": [
    {
     "data": {
      "image/png": "[encoded data removed]",
      "text/plain": [
       "<matplotlib.figure.Figure at 0x22078a25470>"
      ]
     },
     "metadata": {},
     "output_type": "display_data"
    }
   ],
   "source": [
    "# The values in costbenefit matrix are imaginery and does not resemble any real life data\n",
    "costbenefit_mat = np.array([[0, 0],\n",
    "                            [-10,8]])\n",
    "                            \n",
    "clfs.plot_profit_curve(costbenefit_mat, X_test, y_test['November'])\n"
   ]
  },
  {
   "cell_type": "code",
   "execution_count": 48,
   "metadata": {
    "collapsed": false,
    "scrolled": true
   },
   "outputs": [
    {
     "name": "stdout",
     "output_type": "stream",
     "text": [
      "Thresh=0.000, n=84, Accuracy: 0.7637564196625092 \n",
      " AUC: 84.4693281402142\n",
      "Thresh=0.000, n=84, Accuracy: 0.7637564196625092 \n",
      " AUC: 84.45465260921623\n",
      "Thresh=0.000, n=84, Accuracy: 0.7637564196625092 \n",
      " AUC: 84.44603364656662\n",
      "Thresh=0.000, n=84, Accuracy: 0.7637564196625092 \n",
      " AUC: 84.44976076555024\n",
      "Thresh=0.000, n=84, Accuracy: 0.7637564196625092 \n",
      " AUC: 84.46420335161176\n",
      "Thresh=0.000, n=84, Accuracy: 0.7637564196625092 \n",
      " AUC: 84.4560502788351\n",
      "Thresh=0.000, n=78, Accuracy: 0.7637564196625092 \n",
      " AUC: 84.46327157186585\n",
      "Thresh=0.000, n=77, Accuracy: 0.7637564196625092 \n",
      " AUC: 84.4579138383269\n",
      "Thresh=0.001, n=76, Accuracy: 0.7637564196625092 \n",
      " AUC: 84.46536807629414\n",
      "Thresh=0.001, n=75, Accuracy: 0.768892149669846 \n",
      " AUC: 84.74280549563694\n",
      "Thresh=0.001, n=74, Accuracy: 0.7666911225238444 \n",
      " AUC: 84.97877871628704\n",
      "Thresh=0.001, n=73, Accuracy: 0.7593543653705063 \n",
      " AUC: 84.59674902046655\n",
      "Thresh=0.002, n=72, Accuracy: 0.7593543653705063 \n",
      " AUC: 84.59395368122883\n",
      "Thresh=0.002, n=71, Accuracy: 0.7630227439471754 \n",
      " AUC: 84.62050940398709\n",
      "Thresh=0.002, n=70, Accuracy: 0.7630227439471754 \n",
      " AUC: 84.67105845520237\n",
      "Thresh=0.002, n=69, Accuracy: 0.7630227439471754 \n",
      " AUC: 84.75445274246074\n",
      "Thresh=0.002, n=68, Accuracy: 0.76008804108584 \n",
      " AUC: 84.6813080324073\n",
      "Thresh=0.002, n=67, Accuracy: 0.7674247982391783 \n",
      " AUC: 84.94779703973575\n",
      "Thresh=0.002, n=66, Accuracy: 0.7637564196625092 \n",
      " AUC: 84.77565073168005\n",
      "Thresh=0.002, n=65, Accuracy: 0.7593543653705063 \n",
      " AUC: 84.53455272242748\n",
      "Thresh=0.003, n=64, Accuracy: 0.764490095377843 \n",
      " AUC: 84.38849624725708\n",
      "Thresh=0.003, n=63, Accuracy: 0.7637564196625092 \n",
      " AUC: 84.60350442362434\n",
      "Thresh=0.003, n=62, Accuracy: 0.7659574468085106 \n",
      " AUC: 84.43508523455226\n",
      "Thresh=0.003, n=61, Accuracy: 0.7622890682318415 \n",
      " AUC: 84.55924488569393\n",
      "Thresh=0.003, n=60, Accuracy: 0.764490095377843 \n",
      " AUC: 84.534319777491\n",
      "Thresh=0.004, n=59, Accuracy: 0.76008804108584 \n",
      " AUC: 84.61002688184567\n",
      "Thresh=0.004, n=58, Accuracy: 0.7652237710931769 \n",
      " AUC: 84.60327147868787\n",
      "Thresh=0.004, n=57, Accuracy: 0.7718268525311812 \n",
      " AUC: 84.74001015639922\n",
      "Thresh=0.004, n=56, Accuracy: 0.7703595011005135 \n",
      " AUC: 84.84646599236873\n",
      "Thresh=0.004, n=55, Accuracy: 0.7622890682318415 \n",
      " AUC: 84.69318822416757\n",
      "Thresh=0.004, n=54, Accuracy: 0.7637564196625092 \n",
      " AUC: 84.693887058977\n",
      "Thresh=0.005, n=53, Accuracy: 0.7681584739545121 \n",
      " AUC: 84.52337136547663\n",
      "Thresh=0.005, n=52, Accuracy: 0.7652237710931769 \n",
      " AUC: 84.53105854838033\n",
      "Thresh=0.005, n=51, Accuracy: 0.7615553925165077 \n",
      " AUC: 84.41994381368131\n",
      "Thresh=0.005, n=50, Accuracy: 0.764490095377843 \n",
      " AUC: 84.27458617332036\n",
      "Thresh=0.006, n=49, Accuracy: 0.7615553925165077 \n",
      " AUC: 84.27831329230398\n",
      "Thresh=0.006, n=48, Accuracy: 0.76008804108584 \n",
      " AUC: 84.5573813262021\n",
      "Thresh=0.006, n=47, Accuracy: 0.7586206896551724 \n",
      " AUC: 84.24546805626086\n",
      "Thresh=0.006, n=46, Accuracy: 0.7630227439471754 \n",
      " AUC: 84.54806352874307\n",
      "Thresh=0.006, n=45, Accuracy: 0.7622890682318415 \n",
      " AUC: 84.57019329770829\n",
      "Thresh=0.007, n=44, Accuracy: 0.7622890682318415 \n",
      " AUC: 84.36030990994348\n",
      "Thresh=0.007, n=43, Accuracy: 0.7593543653705063 \n",
      " AUC: 84.71345443364098\n",
      "Thresh=0.007, n=42, Accuracy: 0.7696258253851798 \n",
      " AUC: 84.51125822877987\n",
      "Thresh=0.007, n=41, Accuracy: 0.7571533382245048 \n",
      " AUC: 84.43508523455225\n",
      "Thresh=0.007, n=40, Accuracy: 0.76008804108584 \n",
      " AUC: 84.20074262845749\n",
      "Thresh=0.007, n=39, Accuracy: 0.7578870139398386 \n",
      " AUC: 84.18140819873\n",
      "Thresh=0.007, n=38, Accuracy: 0.7593543653705063 \n",
      " AUC: 84.32746467390038\n",
      "Thresh=0.008, n=37, Accuracy: 0.7542186353631695 \n",
      " AUC: 84.13971105510079\n",
      "Thresh=0.008, n=36, Accuracy: 0.7615553925165077 \n",
      " AUC: 84.15182419179754\n",
      "Thresh=0.008, n=35, Accuracy: 0.76008804108584 \n",
      " AUC: 84.07238996845926\n",
      "Thresh=0.009, n=34, Accuracy: 0.764490095377843 \n",
      " AUC: 84.16417027343077\n",
      "Thresh=0.009, n=33, Accuracy: 0.7534849596478357 \n",
      " AUC: 84.07821359187115\n",
      "Thresh=0.010, n=32, Accuracy: 0.7571533382245048 \n",
      " AUC: 84.50822994460569\n",
      "Thresh=0.010, n=31, Accuracy: 0.7593543653705063 \n",
      " AUC: 84.47678237818144\n",
      "Thresh=0.010, n=30, Accuracy: 0.7564196625091709 \n",
      " AUC: 84.26200714675065\n",
      "Thresh=0.011, n=29, Accuracy: 0.7527512839325018 \n",
      " AUC: 84.16160787912953\n",
      "Thresh=0.011, n=28, Accuracy: 0.7571533382245048 \n",
      " AUC: 84.41109190609524\n",
      "Thresh=0.011, n=27, Accuracy: 0.7564196625091709 \n",
      " AUC: 84.29904539165032\n",
      "Thresh=0.011, n=26, Accuracy: 0.7615553925165077 \n",
      " AUC: 84.32886234351923\n",
      "Thresh=0.012, n=25, Accuracy: 0.7505502567865003 \n",
      " AUC: 83.95358805085652\n",
      "Thresh=0.012, n=24, Accuracy: 0.7578870139398386 \n",
      " AUC: 83.93006061227246\n",
      "Thresh=0.013, n=23, Accuracy: 0.7534849596478357 \n",
      " AUC: 84.09265617793267\n",
      "Thresh=0.013, n=22, Accuracy: 0.7505502567865003 \n",
      " AUC: 83.96989419640985\n",
      "Thresh=0.013, n=21, Accuracy: 0.7542186353631695 \n",
      " AUC: 84.176516355064\n",
      "Thresh=0.014, n=20, Accuracy: 0.7542186353631695 \n",
      " AUC: 83.94333847365158\n",
      "Thresh=0.014, n=19, Accuracy: 0.752017608217168 \n",
      " AUC: 83.68663315365515\n",
      "Thresh=0.015, n=18, Accuracy: 0.7483492296404989 \n",
      " AUC: 83.57225718984547\n",
      "Thresh=0.015, n=17, Accuracy: 0.7454145267791636 \n",
      " AUC: 83.34793121601916\n",
      "Thresh=0.016, n=16, Accuracy: 0.7527512839325018 \n",
      " AUC: 83.42876310897631\n",
      "Thresh=0.017, n=15, Accuracy: 0.7549523110785032 \n",
      " AUC: 83.36796448055608\n",
      "Thresh=0.018, n=14, Accuracy: 0.7402787967718268 \n",
      " AUC: 83.22773162879759\n",
      "Thresh=0.018, n=13, Accuracy: 0.7498165810711666 \n",
      " AUC: 83.45625061148047\n",
      "Thresh=0.018, n=12, Accuracy: 0.7446808510638298 \n",
      " AUC: 82.85991157410211\n",
      "Thresh=0.020, n=11, Accuracy: 0.752017608217168 \n",
      " AUC: 83.32347199768918\n",
      "Thresh=0.020, n=10, Accuracy: 0.7534849596478357 \n",
      " AUC: 83.41152518367709\n",
      "Thresh=0.021, n=9, Accuracy: 0.7446808510638298 \n",
      " AUC: 83.431558448214\n",
      "Thresh=0.024, n=8, Accuracy: 0.7593543653705063 \n",
      " AUC: 83.69991101503427\n",
      "Thresh=0.025, n=7, Accuracy: 0.7593543653705063 \n",
      " AUC: 83.78342177476088\n",
      "Thresh=0.038, n=6, Accuracy: 0.7578870139398386 \n",
      " AUC: 83.85971124145675\n",
      "Thresh=0.043, n=5, Accuracy: 0.7571533382245048 \n",
      " AUC: 83.73659984252923\n",
      "Thresh=0.051, n=4, Accuracy: 0.7637564196625092 \n",
      " AUC: 84.47818004780031\n",
      "Thresh=0.077, n=3, Accuracy: 0.7637564196625092 \n",
      " AUC: 83.36889626030198\n",
      "Thresh=0.080, n=2, Accuracy: 0.7454145267791636 \n",
      " AUC: 79.06186085733056\n",
      "Thresh=0.125, n=1, Accuracy: 0.6360968451944241 \n",
      " AUC: 60.494635278112966\n"
     ]
    },
    {
     "data": {
      "image/png": "[encoded data removed]",
      "text/plain": [
       "<matplotlib.figure.Figure at 0x2207fce17b8>"
      ]
     },
     "metadata": {},
     "output_type": "display_data"
    }
   ],
   "source": [
    "# We are going to perform feature selection wih Gradient Boosting\n",
    "from sklearn.metrics import accuracy_score\n",
    "from sklearn.feature_selection import SelectFromModel\n",
    "gbc.fit(X_train,y_train['November'])\n",
    "thresholds = np.sort(gbc.feature_importances_)\n",
    "\n",
    "for thresh in thresholds:\n",
    "    \n",
    "    # select features using threshold\n",
    "    \n",
    "    selection = SelectFromModel(gbc, threshold=thresh, prefit=True)\n",
    "    select_X_train = selection.transform(X_train)\n",
    "    \n",
    "    # train model\n",
    "    selection_model = GradientBoostingClassifier()\n",
    "    selection_model.fit(select_X_train, y_train['November'])\n",
    "    \n",
    "    # eval model\n",
    "    select_X_test = selection.transform(X_test)\n",
    "    y_pred = selection_model.predict(select_X_test)\n",
    "    y_proba = selection_model.predict_proba(select_X_test)[:,1]\n",
    "    auc_roc = roc_auc_score(y_test['November'], y_proba)\n",
    "    accuracy = accuracy_score(y_test['November'],y_pred)\n",
    "    print(\"Thresh={:.3f}, n={}, Accuracy: {} \\n AUC: {}\".format(thresh, select_X_train.shape[1],accuracy, auc_roc*100.0))\n",
    "  \n",
    "\n",
    "fig= plt.figure(figsize=(10,6))\n",
    "feat_imp_gbc = pd.Series(gbc.feature_importances_,\n",
    "                     X_train.columns.tolist()).sort_values(ascending=False)\n",
    "feat_imp_gbc.plot(kind='bar', title='Feature Importances')\n",
    "plt.ylabel('Feature Importance Score')\n",
    "\n",
    "plt.show()"
   ]
  },
  {
   "cell_type": "code",
   "execution_count": 49,
   "metadata": {
    "collapsed": false
   },
   "outputs": [
    {
     "data": {
      "text/plain": [
       "([mean: 0.77332, std: 0.01994, params: {'n_estimators': 30},\n",
       "  mean: 0.76681, std: 0.02401, params: {'n_estimators': 40},\n",
       "  mean: 0.76030, std: 0.02456, params: {'n_estimators': 50},\n",
       "  mean: 0.75777, std: 0.02708, params: {'n_estimators': 60},\n",
       "  mean: 0.75994, std: 0.02244, params: {'n_estimators': 70},\n",
       "  mean: 0.75597, std: 0.02381, params: {'n_estimators': 80},\n",
       "  mean: 0.75597, std: 0.02269, params: {'n_estimators': 90},\n",
       "  mean: 0.75741, std: 0.02248, params: {'n_estimators': 100},\n",
       "  mean: 0.75633, std: 0.02034, params: {'n_estimators': 110}],\n",
       " {'n_estimators': 30},\n",
       " 0.7733188720173536)"
      ]
     },
     "execution_count": 49,
     "metadata": {},
     "output_type": "execute_result"
    }
   ],
   "source": [
    "# Train a general GBC to select the important features\n",
    "\n",
    "sfm = SelectFromModel(gbc, threshold=0.049)\n",
    "sfm.fit(X_train,y_train['November'])\n",
    "X_train_t = sfm.transform(X_train)\n",
    "X_test_t = sfm.transform(X_test)\n",
    "\n",
    "# Train a new classifier using only the selected features\n",
    "\n",
    "param_test = {'n_estimators':list(range(30,120,10))}\n",
    "gbc_grid = GridSearchCV(GradientBoostingClassifier( learning_rate = 0.1, min_samples_split=5, max_depth=5,\n",
    "     random_state=7), param_grid=param_test, scoring='accuracy',cv=10)\n",
    "gbc_grid.fit(X_train_t, y_train['November'])\n",
    "\n",
    "gbc_grid.grid_scores_, gbc_grid.best_params_, gbc_grid.best_score_\n",
    "\n",
    "# Tuning GBC with GridSearchCv\n",
    "#min_samples_split : This should be ~0.5-1% of total values\n",
    "#min_samples_leaf : This  is just used for overfitting prevention and\n",
    "#                   again a small value because of imbalanced class\n",
    "#max_depth : should be chosen (5-8) based on the number of observations\n",
    "#max_features : 'sqrt' General thumb rule to start with square root\n",
    "#subsample : 0.8 this is a commonly used start value\n",
    "\n"
   ]
  },
  {
   "cell_type": "code",
   "execution_count": 50,
   "metadata": {
    "collapsed": false
   },
   "outputs": [
    {
     "data": {
      "text/plain": [
       "([mean: 0.76645, std: 0.01832, params: {'min_samples_leaf': 1, 'n_estimators': 10},\n",
       "  mean: 0.76681, std: 0.01818, params: {'min_samples_leaf': 1, 'n_estimators': 50},\n",
       "  mean: 0.76103, std: 0.01541, params: {'min_samples_leaf': 1, 'n_estimators': 100},\n",
       "  mean: 0.76392, std: 0.01687, params: {'min_samples_leaf': 1, 'n_estimators': 200},\n",
       "  mean: 0.76573, std: 0.01922, params: {'min_samples_leaf': 2, 'n_estimators': 10},\n",
       "  mean: 0.76609, std: 0.01829, params: {'min_samples_leaf': 2, 'n_estimators': 50},\n",
       "  mean: 0.76175, std: 0.01513, params: {'min_samples_leaf': 2, 'n_estimators': 100},\n",
       "  mean: 0.76464, std: 0.01696, params: {'min_samples_leaf': 2, 'n_estimators': 200},\n",
       "  mean: 0.76645, std: 0.01938, params: {'min_samples_leaf': 4, 'n_estimators': 10},\n",
       "  mean: 0.76573, std: 0.01895, params: {'min_samples_leaf': 4, 'n_estimators': 50},\n",
       "  mean: 0.76139, std: 0.01874, params: {'min_samples_leaf': 4, 'n_estimators': 100},\n",
       "  mean: 0.76392, std: 0.01734, params: {'min_samples_leaf': 4, 'n_estimators': 200}],\n",
       " {'min_samples_leaf': 1, 'n_estimators': 50},\n",
       " 0.7668112798264642)"
      ]
     },
     "execution_count": 50,
     "metadata": {},
     "output_type": "execute_result"
    }
   ],
   "source": [
    "param_test= {'n_estimators': [10,50,100,200], 'min_samples_leaf':[1,2,4]}\n",
    "\n",
    "rf_grid = GridSearchCV(RandomForestClassifier(random_state=67,max_depth=5, min_samples_split=5), param_grid = param_test, \n",
    "                       scoring='accuracy', cv=10)\n",
    "rf_grid.fit(X_train_t, y_train['November'])\n",
    "rf_grid.grid_scores_, rf_grid.best_params_, rf_grid.best_score_\n"
   ]
  },
  {
   "cell_type": "code",
   "execution_count": 51,
   "metadata": {
    "collapsed": true
   },
   "outputs": [],
   "source": [
    "gbc_param = { 'learning_rate' : 0.1,\n",
    "             'min_samples_split' : 5,\n",
    "             'max_depth' : 5,\n",
    "             'random_state' : 7,\n",
    "             'n_estimators' : 30,\n",
    "             }\n",
    "\n",
    "rf_param = { 'n_estimators':50,\n",
    "             'min_samples_leaf':1,\n",
    "             'max_depth':5,\n",
    "             'min_samples_split':5,\n",
    "             }\n",
    "\n",
    "rf_tuned = RandomForestClassifier(**rf_param)\n",
    "gbc_tuned = GradientBoostingClassifier(**gbc_param)"
   ]
  },
  {
   "cell_type": "code",
   "execution_count": 52,
   "metadata": {
    "collapsed": false
   },
   "outputs": [],
   "source": [
    "clfs_tuned = Classifiers([gbc_tuned, rf_tuned])"
   ]
  },
  {
   "cell_type": "code",
   "execution_count": 53,
   "metadata": {
    "collapsed": false
   },
   "outputs": [],
   "source": [
    "clfs_tuned.create_pipelines()"
   ]
  },
  {
   "cell_type": "code",
   "execution_count": 54,
   "metadata": {
    "collapsed": true
   },
   "outputs": [],
   "source": [
    "clfs_tuned.train(X_train_t,y_train['November'])"
   ]
  },
  {
   "cell_type": "code",
   "execution_count": 55,
   "metadata": {
    "collapsed": false
   },
   "outputs": [
    {
     "name": "stdout",
     "output_type": "stream",
     "text": [
      "                   Classifier  Accuracy\n",
      "0  GradientBoostingClassifier  0.765957\n",
      "1      RandomForestClassifier  0.768158\n"
     ]
    }
   ],
   "source": [
    "clfs_tuned.accuracy_scores(X_test_t, y_test['November'])"
   ]
  },
  {
   "cell_type": "code",
   "execution_count": 56,
   "metadata": {
    "collapsed": false
   },
   "outputs": [
    {
     "data": {
      "image/png": "[encoded data removed]",
      "text/plain": [
       "<matplotlib.figure.Figure at 0x22009f45048>"
      ]
     },
     "metadata": {},
     "output_type": "display_data"
    }
   ],
   "source": [
    "clfs_tuned.plot_roc_curve(X_test_t, y_test['November'])"
   ]
  },
  {
   "cell_type": "code",
   "execution_count": null,
   "metadata": {
    "collapsed": true
   },
   "outputs": [],
   "source": []
  }
 ],
 "metadata": {
  "anaconda-cloud": {},
  "kernelspec": {
   "display_name": "Python [conda root]",
   "language": "python",
   "name": "conda-root-py"
  },
  "language_info": {
   "codemirror_mode": {
    "name": "ipython",
    "version": 3
   },
   "file_extension": ".py",
   "mimetype": "text/x-python",
   "name": "python",
   "nbconvert_exporter": "python",
   "pygments_lexer": "ipython3",
   "version": "3.5.2"
  }
 },
 "nbformat": 4,
 "nbformat_minor": 1
}
